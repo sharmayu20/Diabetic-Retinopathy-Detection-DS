{
 "cells": [
  {
   "cell_type": "markdown",
   "metadata": {},
   "source": [
    "#  Gradient Boosting for Retinal data"
   ]
  },
  {
   "cell_type": "code",
   "execution_count": 4,
   "metadata": {},
   "outputs": [],
   "source": [
    "import pandas as pd\n",
    "import matplotlib.pyplot as plt\n",
    "import seaborn as sns "
   ]
  },
  {
   "cell_type": "code",
   "execution_count": 61,
   "metadata": {},
   "outputs": [],
   "source": [
    "from sklearn.model_selection import train_test_split\n",
    "from sklearn.ensemble import GradientBoostingClassifier\n"
   ]
  },
  {
   "cell_type": "markdown",
   "metadata": {},
   "source": [
    "### Reading the data"
   ]
  },
  {
   "cell_type": "code",
   "execution_count": 6,
   "metadata": {},
   "outputs": [],
   "source": [
    "dataf=pd.read_csv('E:/Studies/BE Project/Prog/output_final_train.csv')"
   ]
  },
  {
   "cell_type": "code",
   "execution_count": 7,
   "metadata": {},
   "outputs": [
    {
     "data": {
      "text/html": [
       "<div>\n",
       "<style scoped>\n",
       "    .dataframe tbody tr th:only-of-type {\n",
       "        vertical-align: middle;\n",
       "    }\n",
       "\n",
       "    .dataframe tbody tr th {\n",
       "        vertical-align: top;\n",
       "    }\n",
       "\n",
       "    .dataframe thead th {\n",
       "        text-align: right;\n",
       "    }\n",
       "</style>\n",
       "<table border=\"1\" class=\"dataframe\">\n",
       "  <thead>\n",
       "    <tr style=\"text-align: right;\">\n",
       "      <th></th>\n",
       "      <th>sr</th>\n",
       "      <th>a bv</th>\n",
       "      <th>p bv</th>\n",
       "      <th>a ex</th>\n",
       "      <th>p ex</th>\n",
       "      <th>ma a</th>\n",
       "      <th>ma p</th>\n",
       "      <th>resp</th>\n",
       "    </tr>\n",
       "  </thead>\n",
       "  <tbody>\n",
       "    <tr>\n",
       "      <td>0</td>\n",
       "      <td>1</td>\n",
       "      <td>14675.0</td>\n",
       "      <td>8524.7</td>\n",
       "      <td>149.750</td>\n",
       "      <td>54.467</td>\n",
       "      <td>0.00</td>\n",
       "      <td>0.000</td>\n",
       "      <td>1</td>\n",
       "    </tr>\n",
       "    <tr>\n",
       "      <td>1</td>\n",
       "      <td>2</td>\n",
       "      <td>13526.0</td>\n",
       "      <td>9044.1</td>\n",
       "      <td>0.000</td>\n",
       "      <td>0.000</td>\n",
       "      <td>0.00</td>\n",
       "      <td>0.000</td>\n",
       "      <td>1</td>\n",
       "    </tr>\n",
       "    <tr>\n",
       "      <td>2</td>\n",
       "      <td>3</td>\n",
       "      <td>10600.0</td>\n",
       "      <td>6309.1</td>\n",
       "      <td>23.875</td>\n",
       "      <td>33.934</td>\n",
       "      <td>11.00</td>\n",
       "      <td>11.248</td>\n",
       "      <td>1</td>\n",
       "    </tr>\n",
       "    <tr>\n",
       "      <td>3</td>\n",
       "      <td>4</td>\n",
       "      <td>11958.0</td>\n",
       "      <td>7670.5</td>\n",
       "      <td>52.250</td>\n",
       "      <td>26.870</td>\n",
       "      <td>0.00</td>\n",
       "      <td>0.000</td>\n",
       "      <td>1</td>\n",
       "    </tr>\n",
       "    <tr>\n",
       "      <td>4</td>\n",
       "      <td>5</td>\n",
       "      <td>23695.0</td>\n",
       "      <td>13795.0</td>\n",
       "      <td>3671.400</td>\n",
       "      <td>1533.700</td>\n",
       "      <td>59.25</td>\n",
       "      <td>60.830</td>\n",
       "      <td>1</td>\n",
       "    </tr>\n",
       "  </tbody>\n",
       "</table>\n",
       "</div>"
      ],
      "text/plain": [
       "   sr     a bv     p bv      a ex      p ex   ma a    ma p  resp\n",
       "0   1  14675.0   8524.7   149.750    54.467   0.00   0.000     1\n",
       "1   2  13526.0   9044.1     0.000     0.000   0.00   0.000     1\n",
       "2   3  10600.0   6309.1    23.875    33.934  11.00  11.248     1\n",
       "3   4  11958.0   7670.5    52.250    26.870   0.00   0.000     1\n",
       "4   5  23695.0  13795.0  3671.400  1533.700  59.25  60.830     1"
      ]
     },
     "execution_count": 7,
     "metadata": {},
     "output_type": "execute_result"
    }
   ],
   "source": [
    "dataf.head(5)"
   ]
  },
  {
   "cell_type": "code",
   "execution_count": 8,
   "metadata": {},
   "outputs": [
    {
     "data": {
      "text/html": [
       "<div>\n",
       "<style scoped>\n",
       "    .dataframe tbody tr th:only-of-type {\n",
       "        vertical-align: middle;\n",
       "    }\n",
       "\n",
       "    .dataframe tbody tr th {\n",
       "        vertical-align: top;\n",
       "    }\n",
       "\n",
       "    .dataframe thead th {\n",
       "        text-align: right;\n",
       "    }\n",
       "</style>\n",
       "<table border=\"1\" class=\"dataframe\">\n",
       "  <thead>\n",
       "    <tr style=\"text-align: right;\">\n",
       "      <th></th>\n",
       "      <th>a bv</th>\n",
       "      <th>p bv</th>\n",
       "      <th>a ex</th>\n",
       "      <th>p ex</th>\n",
       "      <th>ma a</th>\n",
       "      <th>ma p</th>\n",
       "      <th>resp</th>\n",
       "    </tr>\n",
       "    <tr>\n",
       "      <th>sr</th>\n",
       "      <th></th>\n",
       "      <th></th>\n",
       "      <th></th>\n",
       "      <th></th>\n",
       "      <th></th>\n",
       "      <th></th>\n",
       "      <th></th>\n",
       "    </tr>\n",
       "  </thead>\n",
       "  <tbody>\n",
       "    <tr>\n",
       "      <td>1</td>\n",
       "      <td>14675.0</td>\n",
       "      <td>8524.7</td>\n",
       "      <td>149.750</td>\n",
       "      <td>54.467</td>\n",
       "      <td>0.00</td>\n",
       "      <td>0.000</td>\n",
       "      <td>1</td>\n",
       "    </tr>\n",
       "    <tr>\n",
       "      <td>2</td>\n",
       "      <td>13526.0</td>\n",
       "      <td>9044.1</td>\n",
       "      <td>0.000</td>\n",
       "      <td>0.000</td>\n",
       "      <td>0.00</td>\n",
       "      <td>0.000</td>\n",
       "      <td>1</td>\n",
       "    </tr>\n",
       "    <tr>\n",
       "      <td>3</td>\n",
       "      <td>10600.0</td>\n",
       "      <td>6309.1</td>\n",
       "      <td>23.875</td>\n",
       "      <td>33.934</td>\n",
       "      <td>11.00</td>\n",
       "      <td>11.248</td>\n",
       "      <td>1</td>\n",
       "    </tr>\n",
       "    <tr>\n",
       "      <td>4</td>\n",
       "      <td>11958.0</td>\n",
       "      <td>7670.5</td>\n",
       "      <td>52.250</td>\n",
       "      <td>26.870</td>\n",
       "      <td>0.00</td>\n",
       "      <td>0.000</td>\n",
       "      <td>1</td>\n",
       "    </tr>\n",
       "    <tr>\n",
       "      <td>5</td>\n",
       "      <td>23695.0</td>\n",
       "      <td>13795.0</td>\n",
       "      <td>3671.400</td>\n",
       "      <td>1533.700</td>\n",
       "      <td>59.25</td>\n",
       "      <td>60.830</td>\n",
       "      <td>1</td>\n",
       "    </tr>\n",
       "    <tr>\n",
       "      <td>...</td>\n",
       "      <td>...</td>\n",
       "      <td>...</td>\n",
       "      <td>...</td>\n",
       "      <td>...</td>\n",
       "      <td>...</td>\n",
       "      <td>...</td>\n",
       "      <td>...</td>\n",
       "    </tr>\n",
       "    <tr>\n",
       "      <td>215</td>\n",
       "      <td>10108.0</td>\n",
       "      <td>6066.3</td>\n",
       "      <td>535.000</td>\n",
       "      <td>587.790</td>\n",
       "      <td>0.00</td>\n",
       "      <td>0.000</td>\n",
       "      <td>0</td>\n",
       "    </tr>\n",
       "    <tr>\n",
       "      <td>216</td>\n",
       "      <td>13441.0</td>\n",
       "      <td>8913.0</td>\n",
       "      <td>0.000</td>\n",
       "      <td>0.000</td>\n",
       "      <td>0.00</td>\n",
       "      <td>0.000</td>\n",
       "      <td>0</td>\n",
       "    </tr>\n",
       "    <tr>\n",
       "      <td>217</td>\n",
       "      <td>12569.0</td>\n",
       "      <td>8086.8</td>\n",
       "      <td>180.000</td>\n",
       "      <td>264.250</td>\n",
       "      <td>5.50</td>\n",
       "      <td>5.624</td>\n",
       "      <td>0</td>\n",
       "    </tr>\n",
       "    <tr>\n",
       "      <td>218</td>\n",
       "      <td>13088.0</td>\n",
       "      <td>6775.0</td>\n",
       "      <td>165.880</td>\n",
       "      <td>194.630</td>\n",
       "      <td>0.00</td>\n",
       "      <td>0.000</td>\n",
       "      <td>0</td>\n",
       "    </tr>\n",
       "    <tr>\n",
       "      <td>219</td>\n",
       "      <td>15162.0</td>\n",
       "      <td>8413.9</td>\n",
       "      <td>543.130</td>\n",
       "      <td>604.020</td>\n",
       "      <td>247.50</td>\n",
       "      <td>253.080</td>\n",
       "      <td>0</td>\n",
       "    </tr>\n",
       "  </tbody>\n",
       "</table>\n",
       "<p>219 rows × 7 columns</p>\n",
       "</div>"
      ],
      "text/plain": [
       "        a bv     p bv      a ex      p ex    ma a     ma p  resp\n",
       "sr                                                              \n",
       "1    14675.0   8524.7   149.750    54.467    0.00    0.000     1\n",
       "2    13526.0   9044.1     0.000     0.000    0.00    0.000     1\n",
       "3    10600.0   6309.1    23.875    33.934   11.00   11.248     1\n",
       "4    11958.0   7670.5    52.250    26.870    0.00    0.000     1\n",
       "5    23695.0  13795.0  3671.400  1533.700   59.25   60.830     1\n",
       "..       ...      ...       ...       ...     ...      ...   ...\n",
       "215  10108.0   6066.3   535.000   587.790    0.00    0.000     0\n",
       "216  13441.0   8913.0     0.000     0.000    0.00    0.000     0\n",
       "217  12569.0   8086.8   180.000   264.250    5.50    5.624     0\n",
       "218  13088.0   6775.0   165.880   194.630    0.00    0.000     0\n",
       "219  15162.0   8413.9   543.130   604.020  247.50  253.080     0\n",
       "\n",
       "[219 rows x 7 columns]"
      ]
     },
     "execution_count": 8,
     "metadata": {},
     "output_type": "execute_result"
    }
   ],
   "source": [
    "dataf.set_index('sr')"
   ]
  },
  {
   "cell_type": "markdown",
   "metadata": {},
   "source": [
    "### Setting target and predictor variables"
   ]
  },
  {
   "cell_type": "code",
   "execution_count": 9,
   "metadata": {},
   "outputs": [],
   "source": [
    "y=dataf.resp"
   ]
  },
  {
   "cell_type": "code",
   "execution_count": 10,
   "metadata": {},
   "outputs": [],
   "source": [
    "x=dataf.drop('resp',axis=1)"
   ]
  },
  {
   "cell_type": "markdown",
   "metadata": {},
   "source": [
    "### Splitting the data into test and train data"
   ]
  },
  {
   "cell_type": "code",
   "execution_count": 74,
   "metadata": {},
   "outputs": [],
   "source": [
    "train_x,test_x,train_y,test_y=train_test_split(x,y,train_size=0.82)"
   ]
  },
  {
   "cell_type": "markdown",
   "metadata": {},
   "source": [
    "### Defining the Gradient Boosting algorithm"
   ]
  },
  {
   "cell_type": "code",
   "execution_count": 75,
   "metadata": {},
   "outputs": [
    {
     "data": {
      "text/plain": [
       "GradientBoostingClassifier(criterion='friedman_mse', init=None,\n",
       "                           learning_rate=0.1, loss='deviance', max_depth=3,\n",
       "                           max_features=None, max_leaf_nodes=None,\n",
       "                           min_impurity_decrease=0.0, min_impurity_split=None,\n",
       "                           min_samples_leaf=1, min_samples_split=2,\n",
       "                           min_weight_fraction_leaf=0.0, n_estimators=100,\n",
       "                           n_iter_no_change=None, presort='auto',\n",
       "                           random_state=None, subsample=1.0, tol=0.0001,\n",
       "                           validation_fraction=0.1, verbose=0,\n",
       "                           warm_start=False)"
      ]
     },
     "execution_count": 75,
     "metadata": {},
     "output_type": "execute_result"
    }
   ],
   "source": [
    "gbModel=GradientBoostingClassifier()\n",
    "gbModel.fit(train_x,train_y)"
   ]
  },
  {
   "cell_type": "markdown",
   "metadata": {},
   "source": [
    "#### Predictng using the model"
   ]
  },
  {
   "cell_type": "code",
   "execution_count": 76,
   "metadata": {},
   "outputs": [],
   "source": [
    "yhat=gbModel.predict(test_x)"
   ]
  },
  {
   "cell_type": "markdown",
   "metadata": {},
   "source": [
    "### Evaluation Technique 1: Confusion Matrix"
   ]
  },
  {
   "cell_type": "code",
   "execution_count": 77,
   "metadata": {},
   "outputs": [
    {
     "name": "stdout",
     "output_type": "stream",
     "text": [
      "Precison Score 0.9459459459459459\n",
      "Recall Score 1.0\n",
      "F1 Score 0.9722222222222222\n",
      "Accuracy Score : 0.95\n"
     ]
    }
   ],
   "source": [
    "\n",
    "from sklearn.metrics import precision_score\n",
    "from sklearn.metrics import recall_score\n",
    "from sklearn.metrics import f1_score\n",
    "\n",
    "from sklearn.metrics import accuracy_score \n",
    "\n",
    "\n",
    "print(\"Precison Score\",precision_score(test_y, yhat))\n",
    "\n",
    "print(\"Recall Score\",recall_score(test_y, yhat))\n",
    "\n",
    "print(\"F1 Score\",f1_score(test_y, yhat))\n",
    "\n",
    "print('Accuracy Score :',accuracy_score(test_y, yhat)) "
   ]
  },
  {
   "cell_type": "code",
   "execution_count": 78,
   "metadata": {},
   "outputs": [
    {
     "name": "stdout",
     "output_type": "stream",
     "text": [
      "[[ 3  2]\n",
      " [ 0 35]]\n",
      "              precision    recall  f1-score   support\n",
      "\n",
      "           0       1.00      0.60      0.75         5\n",
      "           1       0.95      1.00      0.97        35\n",
      "\n",
      "    accuracy                           0.95        40\n",
      "   macro avg       0.97      0.80      0.86        40\n",
      "weighted avg       0.95      0.95      0.94        40\n",
      "\n"
     ]
    }
   ],
   "source": [
    "from sklearn import metrics\n",
    "#from sklearn.metrics import confusion_matrix \n",
    "\n",
    "#from sklearn.metrics import classification_report \n",
    "\n",
    "print(metrics.confusion_matrix(test_y, yhat, labels=[0,1]))\n",
    "\n",
    "# Printing the precision and recall, among other metrics\n",
    "print(metrics.classification_report(test_y, yhat, labels=[0,1]))"
   ]
  },
  {
   "cell_type": "markdown",
   "metadata": {},
   "source": [
    "### Evaluation Technique 2: CVS"
   ]
  },
  {
   "cell_type": "code",
   "execution_count": 84,
   "metadata": {},
   "outputs": [
    {
     "name": "stdout",
     "output_type": "stream",
     "text": [
      "[0.88636364 0.88636364 1.         1.         0.55813953]\n"
     ]
    },
    {
     "name": "stderr",
     "output_type": "stream",
     "text": [
      "C:\\Users\\Hp\\Anaconda3\\lib\\site-packages\\sklearn\\metrics\\classification.py:1437: UndefinedMetricWarning: F-score is ill-defined and being set to 0.0 in labels with no predicted samples.\n",
      "  'precision', 'predicted', average, warn_for)\n"
     ]
    },
    {
     "data": {
      "image/png": "[encoded data removed]",
      "text/plain": [
       "<Figure size 432x288 with 1 Axes>"
      ]
     },
     "metadata": {
      "needs_background": "light"
     },
     "output_type": "display_data"
    },
    {
     "data": {
      "text/plain": [
       "<matplotlib.axes._subplots.AxesSubplot at 0x1f709c157c8>"
      ]
     },
     "execution_count": 84,
     "metadata": {},
     "output_type": "execute_result"
    }
   ],
   "source": [
    "from sklearn.pipeline import Pipeline\n",
    "from sklearn.model_selection import cross_val_score\n",
    "from yellowbrick.model_selection import CVScores\n",
    "\n",
    "#Method 1: Using the scikit module\n",
    "model=GradientBoostingClassifier(n_estimators=160,learning_rate=0.005)\n",
    "score=cross_val_score(model,x,y,cv=5,scoring='accuracy')\n",
    "print(score)\n",
    "\n",
    "#Method 2: Using the yellowbrick module\n",
    "visualizer = CVScores(model, cv=5, scoring='f1_weighted')\n",
    "\n",
    "visualizer.fit(x, y)        # Fit the data to the visualizer\n",
    "visualizer.show()  # Finalize and render the figure"
   ]
  }
 ],
 "metadata": {
  "kernelspec": {
   "display_name": "Python 3",
   "language": "python",
   "name": "python3"
  },
  "language_info": {
   "codemirror_mode": {
    "name": "ipython",
    "version": 3
   },
   "file_extension": ".py",
   "mimetype": "text/x-python",
   "name": "python",
   "nbconvert_exporter": "python",
   "pygments_lexer": "ipython3",
   "version": "3.7.4"
  }
 },
 "nbformat": 4,
 "nbformat_minor": 2
}
